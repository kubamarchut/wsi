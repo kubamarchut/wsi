{
 "cells": [
  {
   "cell_type": "code",
   "execution_count": 1,
   "metadata": {},
   "outputs": [],
   "source": [
    "import numpy as np\n",
    "from sklearn.base import BaseEstimator, ClassifierMixin\n",
    "from sklearn.model_selection import StratifiedKFold, cross_val_score\n",
    "from sklearn.datasets import load_iris\n",
    "from sklearn.tree import DecisionTreeClassifier\n",
    "from sklearn.svm import SVC"
   ]
  },
  {
   "cell_type": "code",
   "execution_count": 2,
   "metadata": {},
   "outputs": [],
   "source": [
    "class GaussianNaiveBayes(BaseEstimator, ClassifierMixin):\n",
    "    def _calculate_probability(self, mean: np.ndarray, var: np.ndarray, x: np.ndarray) -> np.ndarray:\n",
    "        eps = 1e-9\n",
    "        coeff = 1.0 / np.sqrt(2.0 * np.pi * var + eps)\n",
    "        exponent = np.exp(-((x - mean) ** 2) / (2 * var + eps))\n",
    "        return coeff * exponent\n",
    "    \n",
    "    def _calculate_posterior(self, X: np.ndarray) -> np.ndarray:\n",
    "        posteriors = []\n",
    "        for cls in self.classes_:\n",
    "            prior = np.log(self.priors_[cls])\n",
    "            class_conditional = np.sum(np.log(self._calculate_probability(self.means_[cls], self.vars_[cls], X)), axis=1)\n",
    "            posterior = prior + class_conditional\n",
    "            posteriors.append(posterior)\n",
    "\n",
    "        return self.classes_[np.argmax(posteriors, axis=0)]\n",
    "    \n",
    "    def fit(self, X: np.ndarray, y: np.ndarray) -> 'GaussianNaiveBayes':\n",
    "        self.classes_ = np.unique(y)\n",
    "        self.means_ = {}\n",
    "        self.vars_ = {}\n",
    "        self.priors_ = {}\n",
    "        \n",
    "        for cls in self.classes_:\n",
    "            X_cls = X[y == cls]\n",
    "            self.means_[cls] = np.mean(X_cls, axis=0)\n",
    "            self.vars_[cls] = np.var(X_cls, axis=0)\n",
    "            self.priors_[cls] = X_cls.shape[0] / X.shape[0]\n",
    "        \n",
    "        return self\n",
    "    \n",
    "    def predict(self, X: np.ndarray) -> np.ndarray:\n",
    "        return self._calculate_posterior(X)"
   ]
  },
  {
   "cell_type": "code",
   "execution_count": 3,
   "metadata": {},
   "outputs": [],
   "source": [
    "# Load iris dataset\n",
    "iris = load_iris()\n",
    "X, y = iris.data, iris.target"
   ]
  },
  {
   "cell_type": "code",
   "execution_count": 4,
   "metadata": {},
   "outputs": [],
   "source": [
    "SEED = 2134"
   ]
  },
  {
   "cell_type": "code",
   "execution_count": 5,
   "metadata": {},
   "outputs": [],
   "source": [
    "# Initialize classifiers\n",
    "gnb = GaussianNaiveBayes()\n",
    "dt = DecisionTreeClassifier(random_state=SEED)\n",
    "svm = SVC(kernel='linear', random_state=SEED)\n",
    "\n",
    "# Stratified K-Fold cross-validation\n",
    "cv = StratifiedKFold(n_splits=5, random_state=SEED, shuffle=True)\n",
    "\n",
    "# Define scoring metrics\n",
    "scoring_metrics = ['accuracy', 'precision_macro', 'recall_macro', 'f1_macro']\n",
    "\n",
    "# Cross-validation scores for Gaussian Naive Bayes\n",
    "gnb_scores = {metric: cross_val_score(gnb, X, y, cv=cv, scoring=metric) for metric in scoring_metrics}\n",
    "# Cross-validation scores for Decision Tree\n",
    "dt_scores = {metric: cross_val_score(dt, X, y, cv=cv, scoring=metric) for metric in scoring_metrics}\n",
    "# Cross-validation scores for SVM\n",
    "svm_scores = {metric: cross_val_score(svm, X, y, cv=cv, scoring=metric) for metric in scoring_metrics}\n",
    "\n",
    "# Calculate mean and std for each metric\n",
    "def summarize_scores(scores):\n",
    "    return {metric: (np.mean(values), np.std(values)) for metric, values in scores.items()}\n",
    "\n",
    "gnb_summary = summarize_scores(gnb_scores)\n",
    "dt_summary = summarize_scores(dt_scores)\n",
    "svm_summary = summarize_scores(svm_scores)"
   ]
  },
  {
   "cell_type": "code",
   "execution_count": 6,
   "metadata": {},
   "outputs": [
    {
     "name": "stdout",
     "output_type": "stream",
     "text": [
      "{'accuracy': (0.9466666666666667, 0.03399346342395189), 'precision_macro': (0.94996632996633, 0.03306500166407341), 'recall_macro': (0.9466666666666665, 0.03399346342395191), 'f1_macro': (0.9464651527809422, 0.03410602725792345)}\n"
     ]
    }
   ],
   "source": [
    "print(gnb_summary)"
   ]
  },
  {
   "cell_type": "code",
   "execution_count": 9,
   "metadata": {},
   "outputs": [
    {
     "name": "stdout",
     "output_type": "stream",
     "text": [
      "                      Naiwny Bayes   Drzewo decyzyjne                SVM\n",
      "accuracy         0.947 $\\pm$ 0.034  0.953 $\\pm$ 0.027  0.987 $\\pm$ 0.016\n",
      "precision_macro  0.950 $\\pm$ 0.033  0.958 $\\pm$ 0.024  0.988 $\\pm$ 0.015\n",
      "recall_macro     0.947 $\\pm$ 0.034  0.953 $\\pm$ 0.027  0.987 $\\pm$ 0.016\n",
      "f1_macro         0.946 $\\pm$ 0.034  0.953 $\\pm$ 0.027  0.987 $\\pm$ 0.016\n",
      "\\begin{tabular}{llll}\n",
      "\\toprule\n",
      " & Naiwny Bayes & Drzewo decyzyjne & SVM \\\\\n",
      "\\midrule\n",
      "accuracy & 0.947 $\\pm$ 0.034 & 0.953 $\\pm$ 0.027 & 0.987 $\\pm$ 0.016 \\\\\n",
      "precision_macro & 0.950 $\\pm$ 0.033 & 0.958 $\\pm$ 0.024 & 0.988 $\\pm$ 0.015 \\\\\n",
      "recall_macro & 0.947 $\\pm$ 0.034 & 0.953 $\\pm$ 0.027 & 0.987 $\\pm$ 0.016 \\\\\n",
      "f1_macro & 0.946 $\\pm$ 0.034 & 0.953 $\\pm$ 0.027 & 0.987 $\\pm$ 0.016 \\\\\n",
      "\\bottomrule\n",
      "\\end{tabular}\n",
      "\n"
     ]
    },
    {
     "name": "stderr",
     "output_type": "stream",
     "text": [
      "<>:4: SyntaxWarning: invalid escape sequence '\\p'\n",
      "<>:4: SyntaxWarning: invalid escape sequence '\\p'\n",
      "C:\\Users\\Kuba\\AppData\\Local\\Temp\\ipykernel_4184\\3609968560.py:4: SyntaxWarning: invalid escape sequence '\\p'\n",
      "  formatted_df = df.map(lambda x: f\"{x[0]:.3f} $\\pm$ {x[1]:.3f}\")\n"
     ]
    }
   ],
   "source": [
    "import pandas as pd\n",
    " \n",
    "df = pd.DataFrame({\"Naiwny Bayes\": gnb_summary, \"Drzewo decyzyjne\": dt_summary, \"SVM\": svm_summary})\n",
    "formatted_df = df.map(lambda x: f\"{x[0]:.3f} $\\pm$ {x[1]:.3f}\")\n",
    "print(formatted_df)\n",
    "print(formatted_df.to_latex())"
   ]
  }
 ],
 "metadata": {
  "kernelspec": {
   "display_name": "Python 3",
   "language": "python",
   "name": "python3"
  },
  "language_info": {
   "codemirror_mode": {
    "name": "ipython",
    "version": 3
   },
   "file_extension": ".py",
   "mimetype": "text/x-python",
   "name": "python",
   "nbconvert_exporter": "python",
   "pygments_lexer": "ipython3",
   "version": "3.12.2"
  }
 },
 "nbformat": 4,
 "nbformat_minor": 2
}
