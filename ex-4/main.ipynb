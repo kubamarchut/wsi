{
 "cells": [
  {
   "cell_type": "markdown",
   "metadata": {},
   "source": [
    "# Drzewo decyzyjne"
   ]
  },
  {
   "cell_type": "code",
   "execution_count": 59,
   "metadata": {},
   "outputs": [],
   "source": [
    "from sklearn.model_selection import cross_val_score, cross_validate\n",
    "from sklearn.tree import DecisionTreeClassifier\n",
    "import pandas as pd\n",
    "from IPython.display import display"
   ]
  },
  {
   "cell_type": "code",
   "execution_count": 6,
   "metadata": {},
   "outputs": [],
   "source": [
    "import csv\n",
    "import numpy as np\n",
    "\n",
    "class IrisData:\n",
    "    def __init__(self, data, target, labels):\n",
    "        self.data = data\n",
    "        self.target = target\n",
    "        self.labels = labels\n",
    "\n",
    "def load_iris_data():\n",
    "    data = []\n",
    "    labels = []\n",
    "    target = []\n",
    "\n",
    "    with open('./iris/iris.data', newline='') as csvfile:\n",
    "        data_reader = csv.reader(csvfile, delimiter=',')\n",
    "        for row in data_reader:\n",
    "            if len(row) != 0:\n",
    "                if row[-1] not in labels:\n",
    "                    labels.append(row[-1])\n",
    "                \n",
    "                target.append(labels.index(row[-1]))\n",
    "                data.append([float(x) for x in row[:-1]])\n",
    "\n",
    "    data = np.array(data)\n",
    "    target = np.array(target)\n",
    "    labels = np.array(labels)\n",
    "    \n",
    "    return IrisData(data, target, labels)"
   ]
  },
  {
   "cell_type": "code",
   "execution_count": 8,
   "metadata": {},
   "outputs": [
    {
     "name": "stdout",
     "output_type": "stream",
     "text": [
      "['Iris-setosa' 'Iris-versicolor' 'Iris-virginica']\n"
     ]
    }
   ],
   "source": [
    "iris_data = load_iris_data()\n",
    "print(iris_data.labels)"
   ]
  },
  {
   "cell_type": "code",
   "execution_count": 9,
   "metadata": {},
   "outputs": [
    {
     "name": "stdout",
     "output_type": "stream",
     "text": [
      "[5.4 3.7 1.5 0.2]\n"
     ]
    },
    {
     "data": {
      "text/plain": [
       "array([1.        , 0.93333333, 1.        , 0.93333333, 0.93333333,\n",
       "       0.86666667, 0.93333333, 1.        , 1.        , 1.        ])"
      ]
     },
     "execution_count": 9,
     "metadata": {},
     "output_type": "execute_result"
    }
   ],
   "source": [
    "clf = DecisionTreeClassifier(random_state=0)\n",
    "print((iris_data.data[10]))\n",
    "#print(iris.target)\n",
    "cross_val_score(clf, iris_data.data, iris_data.target, cv=10)"
   ]
  },
  {
   "cell_type": "code",
   "execution_count": 71,
   "metadata": {},
   "outputs": [],
   "source": [
    "def conduct_tests(folds, scores_dict, random_states, param_name = None, param_value = None):\n",
    "    res = {score_name: [] for score_name in scores_dict.keys()}\n",
    "\n",
    "    for random_state in random_states:\n",
    "        if param_name is None:\n",
    "            clf = DecisionTreeClassifier(random_state=random_state)\n",
    "        else:\n",
    "            clf = DecisionTreeClassifier(random_state=random_state, **{param_name: param_value})\n",
    "        results = cross_validate(clf, iris_data.data, iris_data.target, scoring=scores_dict,\n",
    "                                cv=folds)\n",
    "        for score_name, score_values in results.items():\n",
    "            if 'test_' in score_name:\n",
    "                res[score_name[5:]].append(score_values)\n",
    "\n",
    "    avg_scores = {}\n",
    "    std_dev_scores = {}\n",
    "\n",
    "    for score_name, score_values in res.items():\n",
    "        scores_array = np.concatenate(score_values)\n",
    "        avg_scores[score_name] = np.mean(scores_array)\n",
    "        std_dev_scores[score_name] = np.std(scores_array)\n",
    "\n",
    "    return avg_scores, std_dev_scores"
   ]
  },
  {
   "cell_type": "code",
   "execution_count": 53,
   "metadata": {},
   "outputs": [],
   "source": [
    "RANDOM_STATES = [6, 5, 2024]\n",
    "FOLDS_N = 5\n",
    "SCORES_DICT = {'accuracy': 'accuracy',\n",
    "                'precision': 'precision_macro', \n",
    "                'recall': 'recall_macro',\n",
    "                'f1': 'f1_macro'}"
   ]
  },
  {
   "cell_type": "markdown",
   "metadata": {},
   "source": [
    "Testing for default"
   ]
  },
  {
   "cell_type": "code",
   "execution_count": null,
   "metadata": {},
   "outputs": [],
   "source": [
    "test_res = conduct_tests(FOLDS_N, SCORES_DICT, RANDOM_STATES)\n",
    "\n",
    "for score_name in SCORES_DICT.keys():\n",
    "    print(f\"Average {score_name.capitalize()}: {test_res[0][score_name]}\")\n",
    "    print(f\"Standard Deviation of {score_name.capitalize()}: {test_res[1][score_name]}\")"
   ]
  },
  {
   "cell_type": "code",
   "execution_count": 76,
   "metadata": {},
   "outputs": [
    {
     "data": {
      "text/html": [
       "<div>\n",
       "<style scoped>\n",
       "    .dataframe tbody tr th:only-of-type {\n",
       "        vertical-align: middle;\n",
       "    }\n",
       "\n",
       "    .dataframe tbody tr th {\n",
       "        vertical-align: top;\n",
       "    }\n",
       "\n",
       "    .dataframe thead th {\n",
       "        text-align: right;\n",
       "    }\n",
       "</style>\n",
       "<table border=\"1\" class=\"dataframe\">\n",
       "  <thead>\n",
       "    <tr style=\"text-align: right;\">\n",
       "      <th></th>\n",
       "      <th>Param Value</th>\n",
       "      <th>accuracy</th>\n",
       "      <th>precision</th>\n",
       "      <th>recall</th>\n",
       "      <th>f1</th>\n",
       "    </tr>\n",
       "  </thead>\n",
       "  <tbody>\n",
       "    <tr>\n",
       "      <th>0</th>\n",
       "      <td>gini</td>\n",
       "      <td>0.033259</td>\n",
       "      <td>0.032895</td>\n",
       "      <td>0.033259</td>\n",
       "      <td>0.033334</td>\n",
       "    </tr>\n",
       "    <tr>\n",
       "      <th>1</th>\n",
       "      <td>entropy</td>\n",
       "      <td>0.033993</td>\n",
       "      <td>0.033757</td>\n",
       "      <td>0.033993</td>\n",
       "      <td>0.034059</td>\n",
       "    </tr>\n",
       "  </tbody>\n",
       "</table>\n",
       "</div>"
      ],
      "text/plain": [
       "  Param Value  accuracy  precision    recall        f1\n",
       "0        gini  0.033259   0.032895  0.033259  0.033334\n",
       "1     entropy  0.033993   0.033757  0.033993  0.034059"
      ]
     },
     "metadata": {},
     "output_type": "display_data"
    },
    {
     "name": "stdout",
     "output_type": "stream",
     "text": [
      "\\begin{tabular}{llrrrr}\n",
      "\\toprule\n",
      " & Param Value & accuracy & precision & recall & f1 \\\\\n",
      "\\midrule\n",
      "0 & gini & 0.033259 & 0.032895 & 0.033259 & 0.033334 \\\\\n",
      "1 & entropy & 0.033993 & 0.033757 & 0.033993 & 0.034059 \\\\\n",
      "\\bottomrule\n",
      "\\end{tabular}\n",
      "\n"
     ]
    },
    {
     "data": {
      "text/html": [
       "<div>\n",
       "<style scoped>\n",
       "    .dataframe tbody tr th:only-of-type {\n",
       "        vertical-align: middle;\n",
       "    }\n",
       "\n",
       "    .dataframe tbody tr th {\n",
       "        vertical-align: top;\n",
       "    }\n",
       "\n",
       "    .dataframe thead th {\n",
       "        text-align: right;\n",
       "    }\n",
       "</style>\n",
       "<table border=\"1\" class=\"dataframe\">\n",
       "  <thead>\n",
       "    <tr style=\"text-align: right;\">\n",
       "      <th></th>\n",
       "      <th>Param Value</th>\n",
       "      <th>accuracy</th>\n",
       "      <th>precision</th>\n",
       "      <th>recall</th>\n",
       "      <th>f1</th>\n",
       "    </tr>\n",
       "  </thead>\n",
       "  <tbody>\n",
       "    <tr>\n",
       "      <th>0</th>\n",
       "      <td>best</td>\n",
       "      <td>0.033259</td>\n",
       "      <td>0.032895</td>\n",
       "      <td>0.033259</td>\n",
       "      <td>0.033334</td>\n",
       "    </tr>\n",
       "    <tr>\n",
       "      <th>1</th>\n",
       "      <td>random</td>\n",
       "      <td>0.030307</td>\n",
       "      <td>0.024994</td>\n",
       "      <td>0.030307</td>\n",
       "      <td>0.030909</td>\n",
       "    </tr>\n",
       "  </tbody>\n",
       "</table>\n",
       "</div>"
      ],
      "text/plain": [
       "  Param Value  accuracy  precision    recall        f1\n",
       "0        best  0.033259   0.032895  0.033259  0.033334\n",
       "1      random  0.030307   0.024994  0.030307  0.030909"
      ]
     },
     "metadata": {},
     "output_type": "display_data"
    },
    {
     "name": "stdout",
     "output_type": "stream",
     "text": [
      "\\begin{tabular}{llrrrr}\n",
      "\\toprule\n",
      " & Param Value & accuracy & precision & recall & f1 \\\\\n",
      "\\midrule\n",
      "0 & best & 0.033259 & 0.032895 & 0.033259 & 0.033334 \\\\\n",
      "1 & random & 0.030307 & 0.024994 & 0.030307 & 0.030909 \\\\\n",
      "\\bottomrule\n",
      "\\end{tabular}\n",
      "\n"
     ]
    },
    {
     "name": "stderr",
     "output_type": "stream",
     "text": [
      "c:\\Users\\Kuba\\AppData\\Local\\Programs\\Python\\Python312\\Lib\\site-packages\\sklearn\\metrics\\_classification.py:1509: UndefinedMetricWarning: Precision is ill-defined and being set to 0.0 in labels with no predicted samples. Use `zero_division` parameter to control this behavior.\n",
      "  _warn_prf(average, modifier, f\"{metric.capitalize()} is\", len(result))\n",
      "c:\\Users\\Kuba\\AppData\\Local\\Programs\\Python\\Python312\\Lib\\site-packages\\sklearn\\metrics\\_classification.py:1509: UndefinedMetricWarning: Precision is ill-defined and being set to 0.0 in labels with no predicted samples. Use `zero_division` parameter to control this behavior.\n",
      "  _warn_prf(average, modifier, f\"{metric.capitalize()} is\", len(result))\n",
      "c:\\Users\\Kuba\\AppData\\Local\\Programs\\Python\\Python312\\Lib\\site-packages\\sklearn\\metrics\\_classification.py:1509: UndefinedMetricWarning: Precision is ill-defined and being set to 0.0 in labels with no predicted samples. Use `zero_division` parameter to control this behavior.\n",
      "  _warn_prf(average, modifier, f\"{metric.capitalize()} is\", len(result))\n",
      "c:\\Users\\Kuba\\AppData\\Local\\Programs\\Python\\Python312\\Lib\\site-packages\\sklearn\\metrics\\_classification.py:1509: UndefinedMetricWarning: Precision is ill-defined and being set to 0.0 in labels with no predicted samples. Use `zero_division` parameter to control this behavior.\n",
      "  _warn_prf(average, modifier, f\"{metric.capitalize()} is\", len(result))\n",
      "c:\\Users\\Kuba\\AppData\\Local\\Programs\\Python\\Python312\\Lib\\site-packages\\sklearn\\metrics\\_classification.py:1509: UndefinedMetricWarning: Precision is ill-defined and being set to 0.0 in labels with no predicted samples. Use `zero_division` parameter to control this behavior.\n",
      "  _warn_prf(average, modifier, f\"{metric.capitalize()} is\", len(result))\n",
      "c:\\Users\\Kuba\\AppData\\Local\\Programs\\Python\\Python312\\Lib\\site-packages\\sklearn\\metrics\\_classification.py:1509: UndefinedMetricWarning: Precision is ill-defined and being set to 0.0 in labels with no predicted samples. Use `zero_division` parameter to control this behavior.\n",
      "  _warn_prf(average, modifier, f\"{metric.capitalize()} is\", len(result))\n",
      "c:\\Users\\Kuba\\AppData\\Local\\Programs\\Python\\Python312\\Lib\\site-packages\\sklearn\\metrics\\_classification.py:1509: UndefinedMetricWarning: Precision is ill-defined and being set to 0.0 in labels with no predicted samples. Use `zero_division` parameter to control this behavior.\n",
      "  _warn_prf(average, modifier, f\"{metric.capitalize()} is\", len(result))\n",
      "c:\\Users\\Kuba\\AppData\\Local\\Programs\\Python\\Python312\\Lib\\site-packages\\sklearn\\metrics\\_classification.py:1509: UndefinedMetricWarning: Precision is ill-defined and being set to 0.0 in labels with no predicted samples. Use `zero_division` parameter to control this behavior.\n",
      "  _warn_prf(average, modifier, f\"{metric.capitalize()} is\", len(result))\n",
      "c:\\Users\\Kuba\\AppData\\Local\\Programs\\Python\\Python312\\Lib\\site-packages\\sklearn\\metrics\\_classification.py:1509: UndefinedMetricWarning: Precision is ill-defined and being set to 0.0 in labels with no predicted samples. Use `zero_division` parameter to control this behavior.\n",
      "  _warn_prf(average, modifier, f\"{metric.capitalize()} is\", len(result))\n",
      "c:\\Users\\Kuba\\AppData\\Local\\Programs\\Python\\Python312\\Lib\\site-packages\\sklearn\\metrics\\_classification.py:1509: UndefinedMetricWarning: Precision is ill-defined and being set to 0.0 in labels with no predicted samples. Use `zero_division` parameter to control this behavior.\n",
      "  _warn_prf(average, modifier, f\"{metric.capitalize()} is\", len(result))\n",
      "c:\\Users\\Kuba\\AppData\\Local\\Programs\\Python\\Python312\\Lib\\site-packages\\sklearn\\metrics\\_classification.py:1509: UndefinedMetricWarning: Precision is ill-defined and being set to 0.0 in labels with no predicted samples. Use `zero_division` parameter to control this behavior.\n",
      "  _warn_prf(average, modifier, f\"{metric.capitalize()} is\", len(result))\n",
      "c:\\Users\\Kuba\\AppData\\Local\\Programs\\Python\\Python312\\Lib\\site-packages\\sklearn\\metrics\\_classification.py:1509: UndefinedMetricWarning: Precision is ill-defined and being set to 0.0 in labels with no predicted samples. Use `zero_division` parameter to control this behavior.\n",
      "  _warn_prf(average, modifier, f\"{metric.capitalize()} is\", len(result))\n",
      "c:\\Users\\Kuba\\AppData\\Local\\Programs\\Python\\Python312\\Lib\\site-packages\\sklearn\\metrics\\_classification.py:1509: UndefinedMetricWarning: Precision is ill-defined and being set to 0.0 in labels with no predicted samples. Use `zero_division` parameter to control this behavior.\n",
      "  _warn_prf(average, modifier, f\"{metric.capitalize()} is\", len(result))\n",
      "c:\\Users\\Kuba\\AppData\\Local\\Programs\\Python\\Python312\\Lib\\site-packages\\sklearn\\metrics\\_classification.py:1509: UndefinedMetricWarning: Precision is ill-defined and being set to 0.0 in labels with no predicted samples. Use `zero_division` parameter to control this behavior.\n",
      "  _warn_prf(average, modifier, f\"{metric.capitalize()} is\", len(result))\n",
      "c:\\Users\\Kuba\\AppData\\Local\\Programs\\Python\\Python312\\Lib\\site-packages\\sklearn\\metrics\\_classification.py:1509: UndefinedMetricWarning: Precision is ill-defined and being set to 0.0 in labels with no predicted samples. Use `zero_division` parameter to control this behavior.\n",
      "  _warn_prf(average, modifier, f\"{metric.capitalize()} is\", len(result))\n"
     ]
    },
    {
     "data": {
      "text/html": [
       "<div>\n",
       "<style scoped>\n",
       "    .dataframe tbody tr th:only-of-type {\n",
       "        vertical-align: middle;\n",
       "    }\n",
       "\n",
       "    .dataframe tbody tr th {\n",
       "        vertical-align: top;\n",
       "    }\n",
       "\n",
       "    .dataframe thead th {\n",
       "        text-align: right;\n",
       "    }\n",
       "</style>\n",
       "<table border=\"1\" class=\"dataframe\">\n",
       "  <thead>\n",
       "    <tr style=\"text-align: right;\">\n",
       "      <th></th>\n",
       "      <th>Param Value</th>\n",
       "      <th>accuracy</th>\n",
       "      <th>precision</th>\n",
       "      <th>recall</th>\n",
       "      <th>f1</th>\n",
       "    </tr>\n",
       "  </thead>\n",
       "  <tbody>\n",
       "    <tr>\n",
       "      <th>0</th>\n",
       "      <td>1.0</td>\n",
       "      <td>1.110223e-16</td>\n",
       "      <td>0.000000</td>\n",
       "      <td>1.110223e-16</td>\n",
       "      <td>0.000000</td>\n",
       "    </tr>\n",
       "    <tr>\n",
       "      <th>1</th>\n",
       "      <td>2.0</td>\n",
       "      <td>4.714045e-02</td>\n",
       "      <td>0.047254</td>\n",
       "      <td>4.714045e-02</td>\n",
       "      <td>0.047164</td>\n",
       "    </tr>\n",
       "    <tr>\n",
       "      <th>2</th>\n",
       "      <td>3.0</td>\n",
       "      <td>2.572408e-02</td>\n",
       "      <td>0.023354</td>\n",
       "      <td>2.572408e-02</td>\n",
       "      <td>0.025885</td>\n",
       "    </tr>\n",
       "    <tr>\n",
       "      <th>3</th>\n",
       "      <td>4.0</td>\n",
       "      <td>3.624335e-02</td>\n",
       "      <td>0.035604</td>\n",
       "      <td>3.624335e-02</td>\n",
       "      <td>0.036325</td>\n",
       "    </tr>\n",
       "    <tr>\n",
       "      <th>4</th>\n",
       "      <td>5.0</td>\n",
       "      <td>3.325918e-02</td>\n",
       "      <td>0.032895</td>\n",
       "      <td>3.325918e-02</td>\n",
       "      <td>0.033334</td>\n",
       "    </tr>\n",
       "    <tr>\n",
       "      <th>5</th>\n",
       "      <td>NaN</td>\n",
       "      <td>3.325918e-02</td>\n",
       "      <td>0.032895</td>\n",
       "      <td>3.325918e-02</td>\n",
       "      <td>0.033334</td>\n",
       "    </tr>\n",
       "  </tbody>\n",
       "</table>\n",
       "</div>"
      ],
      "text/plain": [
       "   Param Value      accuracy  precision        recall        f1\n",
       "0          1.0  1.110223e-16   0.000000  1.110223e-16  0.000000\n",
       "1          2.0  4.714045e-02   0.047254  4.714045e-02  0.047164\n",
       "2          3.0  2.572408e-02   0.023354  2.572408e-02  0.025885\n",
       "3          4.0  3.624335e-02   0.035604  3.624335e-02  0.036325\n",
       "4          5.0  3.325918e-02   0.032895  3.325918e-02  0.033334\n",
       "5          NaN  3.325918e-02   0.032895  3.325918e-02  0.033334"
      ]
     },
     "metadata": {},
     "output_type": "display_data"
    },
    {
     "name": "stdout",
     "output_type": "stream",
     "text": [
      "\\begin{tabular}{lrrrrr}\n",
      "\\toprule\n",
      " & Param Value & accuracy & precision & recall & f1 \\\\\n",
      "\\midrule\n",
      "0 & 1.000000 & 0.000000 & 0.000000 & 0.000000 & 0.000000 \\\\\n",
      "1 & 2.000000 & 0.047140 & 0.047254 & 0.047140 & 0.047164 \\\\\n",
      "2 & 3.000000 & 0.025724 & 0.023354 & 0.025724 & 0.025885 \\\\\n",
      "3 & 4.000000 & 0.036243 & 0.035604 & 0.036243 & 0.036325 \\\\\n",
      "4 & 5.000000 & 0.033259 & 0.032895 & 0.033259 & 0.033334 \\\\\n",
      "5 & NaN & 0.033259 & 0.032895 & 0.033259 & 0.033334 \\\\\n",
      "\\bottomrule\n",
      "\\end{tabular}\n",
      "\n"
     ]
    }
   ],
   "source": [
    "PARAMETERS = {\n",
    "    'criterion': ['gini', 'entropy'],\n",
    "    'splitter': ['best', 'random'],\n",
    "    'max_depth': [1, 2, 3, 4, 5, None]\n",
    "}\n",
    "\n",
    "results_by_param = {}\n",
    "\n",
    "for param_name, param_values in PARAMETERS.items():\n",
    "    results_for_param = []\n",
    "    for param_value in param_values:\n",
    "        avg_scores, std_dev_scores = conduct_tests(FOLDS_N, SCORES_DICT, RANDOM_STATES, param_name, param_value)\n",
    "        results_for_param.append(\n",
    "            {\n",
    "            'Param Value': param_value,\n",
    "            **avg_scores,\n",
    "            **std_dev_scores\n",
    "        }\n",
    "        )\n",
    "\n",
    "    results_df = pd.DataFrame(results_for_param)\n",
    "    results_by_param[param_name] = results_df\n",
    "\n",
    "    display(results_df)\n",
    "\n",
    "    print(results_df.to_latex())\n",
    "\n",
    "        "
   ]
  }
 ],
 "metadata": {
  "kernelspec": {
   "display_name": "Python 3",
   "language": "python",
   "name": "python3"
  },
  "language_info": {
   "codemirror_mode": {
    "name": "ipython",
    "version": 3
   },
   "file_extension": ".py",
   "mimetype": "text/x-python",
   "name": "python",
   "nbconvert_exporter": "python",
   "pygments_lexer": "ipython3",
   "version": "3.12.2"
  }
 },
 "nbformat": 4,
 "nbformat_minor": 2
}
