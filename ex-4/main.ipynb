{
 "cells": [
  {
   "cell_type": "markdown",
   "metadata": {},
   "source": [
    "# Drzewo decyzyjne"
   ]
  },
  {
   "cell_type": "code",
   "execution_count": 20,
   "metadata": {},
   "outputs": [],
   "source": [
    "from sklearn.model_selection import cross_val_score, cross_validate\n",
    "from sklearn.tree import DecisionTreeClassifier"
   ]
  },
  {
   "cell_type": "code",
   "execution_count": 6,
   "metadata": {},
   "outputs": [],
   "source": [
    "import csv\n",
    "import numpy as np\n",
    "\n",
    "class IrisData:\n",
    "    def __init__(self, data, target, labels):\n",
    "        self.data = data\n",
    "        self.target = target\n",
    "        self.labels = labels\n",
    "\n",
    "def load_iris_data():\n",
    "    data = []\n",
    "    labels = []\n",
    "    target = []\n",
    "\n",
    "    with open('./iris/iris.data', newline='') as csvfile:\n",
    "        data_reader = csv.reader(csvfile, delimiter=',')\n",
    "        for row in data_reader:\n",
    "            if len(row) != 0:\n",
    "                if row[-1] not in labels:\n",
    "                    labels.append(row[-1])\n",
    "                \n",
    "                target.append(labels.index(row[-1]))\n",
    "                data.append([float(x) for x in row[:-1]])\n",
    "\n",
    "    data = np.array(data)\n",
    "    target = np.array(target)\n",
    "    labels = np.array(labels)\n",
    "    \n",
    "    return IrisData(data, target, labels)"
   ]
  },
  {
   "cell_type": "code",
   "execution_count": 8,
   "metadata": {},
   "outputs": [
    {
     "name": "stdout",
     "output_type": "stream",
     "text": [
      "['Iris-setosa' 'Iris-versicolor' 'Iris-virginica']\n"
     ]
    }
   ],
   "source": [
    "iris_data = load_iris_data()\n",
    "print(iris_data.labels)"
   ]
  },
  {
   "cell_type": "code",
   "execution_count": 9,
   "metadata": {},
   "outputs": [
    {
     "name": "stdout",
     "output_type": "stream",
     "text": [
      "[5.4 3.7 1.5 0.2]\n"
     ]
    },
    {
     "data": {
      "text/plain": [
       "array([1.        , 0.93333333, 1.        , 0.93333333, 0.93333333,\n",
       "       0.86666667, 0.93333333, 1.        , 1.        , 1.        ])"
      ]
     },
     "execution_count": 9,
     "metadata": {},
     "output_type": "execute_result"
    }
   ],
   "source": [
    "clf = DecisionTreeClassifier(random_state=0)\n",
    "print((iris_data.data[10]))\n",
    "#print(iris.target)\n",
    "cross_val_score(clf, iris_data.data, iris_data.target, cv=10)"
   ]
  },
  {
   "cell_type": "code",
   "execution_count": 48,
   "metadata": {},
   "outputs": [
    {
     "name": "stdout",
     "output_type": "stream",
     "text": [
      "{'accuracy': [], 'precision': [], 'recall': [], 'f1': []}\n",
      "Average Accuracy: 0.9577777777777778\n",
      "Standard Deviation of Accuracy: 0.033259176771323916\n",
      "Average Precision: 0.9598653198653199\n",
      "Standard Deviation of Precision: 0.032895054256567316\n",
      "Average Recall: 0.9577777777777778\n",
      "Standard Deviation of Recall: 0.03325917677132392\n",
      "Average F1: 0.9576830966304649\n",
      "Standard Deviation of F1: 0.033334371371323786\n"
     ]
    }
   ],
   "source": [
    "RANDOM_STATES = [6, 5, 2024]\n",
    "FOLDS_N = 5\n",
    "SCORES_DICT = {'accuracy': 'accuracy',\n",
    "                'precision': 'precision_macro', \n",
    "                'recall': 'recall_macro',\n",
    "                'f1': 'f1_macro'}\n",
    "\n",
    "res = {score_name: [] for score_name in SCORES_DICT.keys()}\n",
    "\n",
    "for random_state in RANDOM_STATES:\n",
    "    clf = DecisionTreeClassifier(random_state=random_state)\n",
    "    results = cross_validate(clf, iris_data.data, iris_data.target, scoring=SCORES_DICT,\n",
    "                              cv=FOLDS_N)\n",
    "    for score_name, score_values in results.items():\n",
    "        if 'test_' in score_name:\n",
    "            res[score_name[5:]].append(score_values)\n",
    "\n",
    "avg_scores = {}\n",
    "std_dev_scores = {}\n",
    "\n",
    "for score_name, score_values in res.items():\n",
    "    scores_array = np.concatenate(score_values)\n",
    "    avg_scores[score_name] = np.mean(scores_array)\n",
    "    std_dev_scores[score_name] = np.std(scores_array)\n",
    "\n",
    "for score_name in SCORES_DICT.keys():\n",
    "    print(f\"Average {score_name.capitalize()}: {avg_scores[score_name]}\")\n",
    "    print(f\"Standard Deviation of {score_name.capitalize()}: {std_dev_scores[score_name]}\")"
   ]
  }
 ],
 "metadata": {
  "kernelspec": {
   "display_name": "Python 3",
   "language": "python",
   "name": "python3"
  },
  "language_info": {
   "codemirror_mode": {
    "name": "ipython",
    "version": 3
   },
   "file_extension": ".py",
   "mimetype": "text/x-python",
   "name": "python",
   "nbconvert_exporter": "python",
   "pygments_lexer": "ipython3",
   "version": "3.12.2"
  }
 },
 "nbformat": 4,
 "nbformat_minor": 2
}
